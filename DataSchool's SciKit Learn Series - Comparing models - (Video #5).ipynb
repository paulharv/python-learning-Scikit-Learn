{
 "cells": [
  {
   "cell_type": "markdown",
   "metadata": {},
   "source": [
    "https://www.youtube.com/watch?v=0pP4EwWJgIU&list=PL5-da3qGB5ICeMbQuqbbCOQWcS6OYBr5A&index=5"
   ]
  },
  {
   "cell_type": "markdown",
   "metadata": {},
   "source": [
    "# Overfitting\n",
    "A model that learns the nuances of the training data very, is therefore complex, and is therefore not good at generalizing  "
   ]
  },
  {
   "cell_type": "code",
   "execution_count": 1,
   "metadata": {},
   "outputs": [
    {
     "data": {
      "text/html": [
       "<img src=\"https://github.com/justmarkham/scikit-learn-videos/raw/2b85978bab37a8d07e3736fbef5001d681cb66e1/images/05_overfitting.png\"/>"
      ],
      "text/plain": [
       "<IPython.core.display.HTML object>"
      ]
     },
     "execution_count": 1,
     "metadata": {},
     "output_type": "execute_result"
    }
   ],
   "source": [
    "from IPython.display import HTML\n",
    "HTML('<img src=\"https://github.com/justmarkham/scikit-learn-videos/raw/2b85978bab37a8d07e3736fbef5001d681cb66e1/images/05_overfitting.png\"/>')"
   ]
  },
  {
   "cell_type": "markdown",
   "metadata": {},
   "source": [
    "- The black line represents a decent \"decision boundary\" for predicting future \"out of sample\" data as being blue or red. It is a simple generalization. It won't be perfect, but pretty solid.\n",
    "- The green line fits the data perfectly. It has 100% \"training accurary\", but it's going to be lousy at predicting future \"out of sample\" data as being blue or red. It is complex and not at all generalized. This is overfitting."
   ]
  },
  {
   "cell_type": "code",
   "execution_count": 5,
   "metadata": {},
   "outputs": [
    {
     "name": "stdout",
     "output_type": "stream",
     "text": [
      "1.0\n"
     ]
    }
   ],
   "source": [
    "from sklearn.datasets import load_iris\n",
    "from sklearn.neighbors import KNeighborsClassifier\n",
    "from sklearn import metrics\n",
    "\n",
    "iris_data = load_iris()\n",
    "# The sample observations, by convention, stored in X\n",
    "X = iris_data.data\n",
    "# The training \"answers\" to the above obserations - aka the target - by convention, stored in y\n",
    "y = iris_data.target\n",
    "\n",
    "knn = KNeighborsClassifier(n_neighbors=1)\n",
    "# train the model using the obersations (X) and the target answers (y)\n",
    "knn.fit(X, y)\n",
    "\n",
    "# get the model to predict the \"answers\" for the same dataset we trained it on...\n",
    "predictions = knn.predict(X)\n",
    "\n",
    "# use sklearn's metrics module to see how accurate the model was\n",
    "print(metrics.accuracy_score(y, predictions))"
   ]
  },
  {
   "cell_type": "markdown",
   "metadata": {},
   "source": [
    "100% accuracy! ...but it's overfitted!\n",
    "\n",
    "k=1 is overly complex. It's akin to the green line above. It would have drawn decision boundaies that follow the training data exactly, rather than drawing simpler, more generalized decision boudnaries..."
   ]
  },
  {
   "cell_type": "code",
   "execution_count": 6,
   "metadata": {},
   "outputs": [
    {
     "data": {
      "text/html": [
       "<img src=\"https://miro.medium.com/max/1244/1*fFKbGPgzexQ8Tzpm5FEMrg.png\" width=\"1000px\"/>"
      ],
      "text/plain": [
       "<IPython.core.display.HTML object>"
      ]
     },
     "execution_count": 6,
     "metadata": {},
     "output_type": "execute_result"
    }
   ],
   "source": [
    "HTML('<img src=\"https://miro.medium.com/max/1244/1*fFKbGPgzexQ8Tzpm5FEMrg.png\" width=\"1000px\"/>')"
   ]
  },
  {
   "cell_type": "code",
   "execution_count": 7,
   "metadata": {},
   "outputs": [
    {
     "name": "stdout",
     "output_type": "stream",
     "text": [
      "0.98\n"
     ]
    }
   ],
   "source": [
    "knn = KNeighborsClassifier(n_neighbors=9)\n",
    "\n",
    "knn.fit(X, y)\n",
    "predictions = knn.predict(X)\n",
    "print(metrics.accuracy_score(y, predictions))"
   ]
  },
  {
   "cell_type": "markdown",
   "metadata": {},
   "source": [
    "So in the above, we tested the ML model on in-sample data, but that's not a solid way to go.  \n",
    "Need to train the model and then test it on out of sample data **_that we know the answers to_** and see how well it did."
   ]
  },
  {
   "cell_type": "markdown",
   "metadata": {},
   "source": [
    "# Figuring out the Right Level of Complexity for the model\n",
    "## What Value of k Works Best on the Iris Dataset?\n",
    "\n",
    "We'll split the Iris Dataset into two sets.  \n",
    "The first set will be a \"**Train**ing Set\" - it'll be used to train the model, and we'll try it for a bunch of possible values of k.  \n",
    "The second set will be a \"**Test**ing Set\" - it'll be used to see how well each value of k performs when asked to make predictions."
   ]
  },
  {
   "cell_type": "code",
   "execution_count": 8,
   "metadata": {},
   "outputs": [
    {
     "name": "stdout",
     "output_type": "stream",
     "text": [
      "(90, 4)\n",
      "(60, 4)\n"
     ]
    }
   ],
   "source": [
    "from sklearn.model_selection import train_test_split\n",
    "\n",
    "# split the data into two sets of observations (X_train and X_test) and two sets of target answers (y_train, and y_test)\n",
    "# the size of the test sets will be 40% of the whole data set, chosen randomly\n",
    "# 20% - 40% is typical\n",
    "X_train, X_test, y_train, y_test = train_test_split(X, y, test_size=0.4, random_state=4)\n",
    "\n",
    "print(X_train.shape)\n",
    "print(X_test.shape)"
   ]
  },
  {
   "cell_type": "code",
   "execution_count": 9,
   "metadata": {},
   "outputs": [
    {
     "name": "stdout",
     "output_type": "stream",
     "text": [
      "(90,)\n",
      "(60,)\n"
     ]
    }
   ],
   "source": [
    "print(y_train.shape)\n",
    "print(y_test.shape)"
   ]
  },
  {
   "cell_type": "code",
   "execution_count": 10,
   "metadata": {},
   "outputs": [
    {
     "name": "stdout",
     "output_type": "stream",
     "text": [
      "[0.95, 0.95, 0.9666666666666667, 0.9666666666666667, 0.9666666666666667, 0.9833333333333333, 0.9833333333333333, 0.9833333333333333, 0.9833333333333333, 0.9833333333333333, 0.9833333333333333, 0.9833333333333333, 0.9833333333333333, 0.9833333333333333, 0.9833333333333333, 0.9833333333333333, 0.9833333333333333, 0.9666666666666667, 0.9833333333333333, 0.9666666666666667, 0.9666666666666667, 0.9666666666666667, 0.9666666666666667, 0.95, 0.95]\n"
     ]
    }
   ],
   "source": [
    "def get_accuracy_scores_for_different_values_of_k(k_range):\n",
    "    accuracy_scores = []\n",
    "    \n",
    "    for k in k_range:\n",
    "        knn = KNeighborsClassifier(n_neighbors=k)\n",
    "        knn.fit(X_train, y_train)\n",
    "        predictions = knn.predict(X_test)\n",
    "        accuracy_score = metrics.accuracy_score(y_test, predictions)\n",
    "        accuracy_scores.append(accuracy_score)\n",
    "        \n",
    "    return accuracy_scores\n",
    "\n",
    "k_range = list(range(1, 26)) # [1,2,3...25,26]\n",
    "accuracy_scores = get_accuracy_scores_for_different_values_of_k(k_range)\n",
    "print(accuracy_scores)    "
   ]
  },
  {
   "cell_type": "code",
   "execution_count": 11,
   "metadata": {},
   "outputs": [
    {
     "data": {
      "image/png": "[encoded data removed]",
      "text/plain": [
       "<Figure size 432x288 with 1 Axes>"
      ]
     },
     "metadata": {
      "needs_background": "light"
     },
     "output_type": "display_data"
    }
   ],
   "source": [
    "# import the matplotlib plotting library\n",
    "import matplotlib.pyplot as plt\n",
    "\n",
    "# allow plots to appear within the notebook\n",
    "%matplotlib inline\n",
    "\n",
    "def plot_it(k_range, accuracy_scores):\n",
    "    plt.plot(k_range, accuracy_scores)\n",
    "    plt.xlabel(\"Values of k\")\n",
    "    plt.ylabel(\"Accuracy Score\")\n",
    "    \n",
    "plot_it(k_range, accuracy_scores)    "
   ]
  },
  {
   "cell_type": "markdown",
   "metadata": {},
   "source": [
    "It's worth noting, though, that the above plot is based on initializing train_test_split with random_state=4 which is a specific, repeatable selection of rows from the original dataset "
   ]
  },
  {
   "cell_type": "code",
   "execution_count": 14,
   "metadata": {},
   "outputs": [
    {
     "data": {
      "text/plain": [
       "Text(0, 0.5, 'Accuracy Score')"
      ]
     },
     "execution_count": 14,
     "metadata": {},
     "output_type": "execute_result"
    },
    {
     "data": {
      "image/png": "[encoded data removed]",
      "text/plain": [
       "<Figure size 432x288 with 1 Axes>"
      ]
     },
     "metadata": {
      "needs_background": "light"
     },
     "output_type": "display_data"
    }
   ],
   "source": [
    "X_train, X_test, y_train, y_test = train_test_split(X, y, test_size=0.4) # no random state -- it'll be different every time\n",
    "accuracy_scores = get_accuracy_scores_for_different_values_of_k(k_range) \n",
    "plt.plot(k_range, accuracy_scores)\n",
    "plt.xlabel(\"Values of k\")\n",
    "plt.ylabel(\"Accuracy Score\")"
   ]
  },
  {
   "cell_type": "markdown",
   "metadata": {},
   "source": [
    "So, evalating the model should probably involve averaging the score for each value of k over a number of random samplings..."
   ]
  },
  {
   "cell_type": "code",
   "execution_count": null,
   "metadata": {},
   "outputs": [],
   "source": [
    "results = []\n",
    "for n in list(range(0,50)):\n",
    "    scores = get_accuracy_scores_for_different_values_of_k(k_range)\n",
    "    results.append(scores)\n",
    "    \n",
    "print(len(results))"
   ]
  },
  {
   "cell_type": "code",
   "execution_count": null,
   "metadata": {},
   "outputs": [],
   "source": [
    "import numpy as np\n",
    "\n",
    "accuracy_scores_as_np_array = np.array(results)\n",
    "print(type(accuracy_scores_as_np_array))\n",
    "print(accuracy_scores_as_np_array.shape)"
   ]
  },
  {
   "cell_type": "code",
   "execution_count": null,
   "metadata": {},
   "outputs": [],
   "source": [
    "mean = accuracy_scores_as_np_array.mean(axis=0)\n",
    "plt.plot(k_range, mean)\n",
    "plt.xlabel(\"Values of k\")\n",
    "plt.ylabel(\"Accuracy Score\")"
   ]
  },
  {
   "cell_type": "code",
   "execution_count": null,
   "metadata": {},
   "outputs": [],
   "source": []
  }
 ],
 "metadata": {
  "kernelspec": {
   "display_name": "Python 3",
   "language": "python",
   "name": "python3"
  },
  "language_info": {
   "codemirror_mode": {
    "name": "ipython",
    "version": 3
   },
   "file_extension": ".py",
   "mimetype": "text/x-python",
   "name": "python",
   "nbconvert_exporter": "python",
   "pygments_lexer": "ipython3",
   "version": "3.7.3"
  }
 },
 "nbformat": 4,
 "nbformat_minor": 2
}
